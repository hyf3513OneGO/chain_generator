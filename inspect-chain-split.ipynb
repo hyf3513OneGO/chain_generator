{
 "cells": [
  {
   "cell_type": "code",
   "execution_count": 1,
   "id": "4d6d9c79",
   "metadata": {},
   "outputs": [],
   "source": [
    "%load_ext autoreload\n",
    "%autoreload 2\n",
    "# 基本使用\n",
    "from utils.chain_split_utils import extract_monomers"
   ]
  },
  {
   "cell_type": "code",
   "execution_count": 8,
   "id": "a4314133",
   "metadata": {},
   "outputs": [
    {
     "name": "stdout",
     "output_type": "stream",
     "text": [
      "RadonPy info: Psi4 RESP charge calculation is running...\n",
      "RadonPy info: Normal termination of psi4 RESP charge calculation. Elapsed time = 0:00:07.262567\n",
      "RadonPy info: Psi4 RESP charge calculation is running...\n",
      "RadonPy info: Normal termination of psi4 RESP charge calculation. Elapsed time = 0:00:00.844304\n",
      "RadonPy info: Psi4 RESP charge calculation is running...\n",
      "RadonPy info: Normal termination of psi4 RESP charge calculation. Elapsed time = 0:00:01.079974\n",
      "RadonPy info: Start polymerize_rw.\n",
      "RadonPy info: Start terminate_rw.\n",
      "RadonPy info: Stage[minimize] running...\n",
      "RadonPy warning: OPENMP package is not available. Parallel number of OPENMP is changed to zero.\n",
      "RadonPy info: Stage[pre_nvt @300K] running...\n",
      "RadonPy warning: OPENMP package is not available. Parallel number of OPENMP is changed to zero.\n",
      "RadonPy info: Stage[hot @ 600K] running...\n",
      "RadonPy warning: OPENMP package is not available. Parallel number of OPENMP is changed to zero.\n",
      "RadonPy info: Stage[cool high->target] running...\n",
      "RadonPy warning: OPENMP package is not available. Parallel number of OPENMP is changed to zero.\n",
      "RadonPy info: Stage[final_nvt @target] running...\n",
      "RadonPy warning: OPENMP package is not available. Parallel number of OPENMP is changed to zero.\n",
      "RadonPy info: Stage time summary: {'minimize': '0:00:04.185734', 'pre_nvt': '0:01:30.356236', 'hot': '0:00:20.276906', 'cool': '0:01:06.765163', 'final_nvt': '0:00:13.003245'}\n"
     ]
    }
   ],
   "source": [
    "from rdkit import Chem\n",
    "from utils.chain_split_utils import extract_save_monomers,extract_submol_by_atoms\n",
    "from utils.chain_split_utils import compose_monomers_from_local_monomers,remove_star_atoms\n",
    "from utils.chain_split_utils import extract_monomers,save_to_sdf,extract_rigid_from_monomers\n",
    "from utils.chain_split_utils import extract_save_monomers,compose_monomers_from_local_monomers,extract_monomers,save_to_sdf,extract_rigid_from_monomers,remove_star_atoms\n",
    "from utils.conf_utils import merge_monomer\n",
    "from utils.chain_simulate_utils import HomoChainBuilder\n",
    "import os\n",
    "psmiles = \"[*]CCON[*]\"\n",
    "hcb = HomoChainBuilder(lmps_exec='/data/yifei/lammps-22Jul2025/src/lmp_mpi',work_dir='./lmp_dir/work_dir',\n",
    "temp_dir='./lmp_dir/temp_dir')\n",
    "# homopoly_init = hcb.create_mol(psmiles,n_repeat=5,random_walk=False)\n",
    "key_point_list, processed_mol, processed_smi= remove_star_atoms(psmiles)\n",
    "homopoly_relaxed,homopoly_init = hcb.fromSmiles(psmiles,n_repeat=5,save_dir='./lmp_dir/save_dir',random_walk=True,\n",
    "args_dict={'temp':298,'high_temp':600,'prev_nvt_steps':60000,'cool_steps':500000,'final_nvt_steps':1000000,'time_step_low':0.5,'time_step':2.0,'box_length':150.0,'comm_cutoff':12.0})\n"
   ]
  },
  {
   "cell_type": "code",
   "execution_count": 3,
   "id": "3a3d59ec",
   "metadata": {},
   "outputs": [],
   "source": [
    "import py3Dmol\n",
    "\n",
    "def show_mol_3d(mol, width=400, height=300, style='stick', background='0xeeeeee'):\n",
    "    mb = Chem.MolToMolBlock(mol)\n",
    "    view = py3Dmol.view(width=width, height=height)\n",
    "    view.addModel(mb, 'mol')\n",
    "    view.setStyle({style: {}})\n",
    "    view.setBackgroundColor(background)\n",
    "    view.zoomTo()\n",
    "    return view"
   ]
  },
  {
   "cell_type": "code",
   "execution_count": 10,
   "id": "724fefb4",
   "metadata": {},
   "outputs": [],
   "source": [
    "homopoly_relaxed = Chem.RemoveAllHs(homopoly_relaxed)\n",
    "homopoly_init = Chem.RemoveAllHs(homopoly_init)\n",
    "local_monomers,R_list,t_list = extract_save_monomers(mol=homopoly_relaxed,psmiles=psmiles,save_dir='./output_dir')"
   ]
  },
  {
   "cell_type": "code",
   "execution_count": 7,
   "id": "c61ded48",
   "metadata": {},
   "outputs": [
    {
     "name": "stdout",
     "output_type": "stream",
     "text": [
      "可视化 homopoly_relaxed：\n"
     ]
    },
    {
     "data": {
      "application/3dmoljs_load.v0": "<div id=\"3dmolviewer_17557884275467513\"  style=\"position: relative; width: 400px; height: 300px;\">\n        <p id=\"3dmolwarning_17557884275467513\" style=\"background-color:#ffcccc;color:black\">3Dmol.js failed to load for some reason.  Please check your browser console for error messages.<br></p>\n        </div>\n<script>\n\nvar loadScriptAsync = function(uri){\n  return new Promise((resolve, reject) => {\n    //this is to ignore the existence of requirejs amd\n    var savedexports, savedmodule;\n    if (typeof exports !== 'undefined') savedexports = exports;\n    else exports = {}\n    if (typeof module !== 'undefined') savedmodule = module;\n    else module = {}\n\n    var tag = document.createElement('script');\n    tag.src = uri;\n    tag.async = true;\n    tag.onload = () => {\n        exports = savedexports;\n        module = savedmodule;\n        resolve();\n    };\n  var firstScriptTag = document.getElementsByTagName('script')[0];\n  firstScriptTag.parentNode.insertBefore(tag, firstScriptTag);\n});\n};\n\nif(typeof $3Dmolpromise === 'undefined') {\n$3Dmolpromise = null;\n  $3Dmolpromise = loadScriptAsync('https://cdn.jsdelivr.net/npm/3dmol@2.5.2/build/3Dmol-min.js');\n}\n\nvar viewer_17557884275467513 = null;\nvar warn = document.getElementById(\"3dmolwarning_17557884275467513\");\nif(warn) {\n    warn.parentNode.removeChild(warn);\n}\n$3Dmolpromise.then(function() {\nviewer_17557884275467513 = $3Dmol.createViewer(document.getElementById(\"3dmolviewer_17557884275467513\"),{backgroundColor:\"white\"});\nviewer_17557884275467513.zoomTo();\n\tviewer_17557884275467513.addModel(\"\\n     RDKit          3D\\n\\n 52 51  0  0  0  0  0  0  0  0999 V2000\\n   70.0956  -58.1035   32.8675 N   0  0  0  0  0  0  0  0  0  0  0  0\\n   69.1660  -58.5074   32.7625 H   0  0  0  0  0  0  0  0  0  0  0  0\\n   70.5950  -58.4722   33.6756 H   0  0  0  0  0  0  0  0  0  0  0  0\\n   71.0399  -57.9706   31.6670 C   0  0  0  0  0  0  0  0  0  0  0  0\\n   72.3200  -57.0910   31.9014 C   0  0  0  0  0  0  0  0  0  0  0  0\\n   73.2959  -57.3401   30.8398 O   0  0  0  0  0  0  0  0  0  0  0  0\\n   74.6711  -57.1060   31.2689 N   0  0  0  0  0  0  0  0  0  0  0  0\\n   70.5077  -57.6741   30.7547 H   0  0  0  0  0  0  0  0  0  0  0  0\\n   71.5628  -58.8788   31.3428 H   0  0  0  0  0  0  0  0  0  0  0  0\\n   72.8562  -57.3307   32.8279 H   0  0  0  0  0  0  0  0  0  0  0  0\\n   72.1035  -56.0156   31.9022 H   0  0  0  0  0  0  0  0  0  0  0  0\\n   74.9635  -58.0489   31.5213 H   0  0  0  0  0  0  0  0  0  0  0  0\\n   75.3834  -56.4756   30.0327 C   0  0  0  0  0  0  0  0  0  0  0  0\\n   74.8560  -55.1334   29.6324 C   0  0  0  0  0  0  0  0  0  0  0  0\\n   75.4071  -54.6762   28.3878 O   0  0  0  0  0  0  0  0  0  0  0  0\\n   76.1941  -53.4009   28.5968 N   0  0  0  0  0  0  0  0  0  0  0  0\\n   75.1559  -57.1334   29.1848 H   0  0  0  0  0  0  0  0  0  0  0  0\\n   76.4598  -56.5899   30.2111 H   0  0  0  0  0  0  0  0  0  0  0  0\\n   75.0555  -54.4492   30.4663 H   0  0  0  0  0  0  0  0  0  0  0  0\\n   73.7708  -55.2381   29.5104 H   0  0  0  0  0  0  0  0  0  0  0  0\\n   75.7054  -52.5943   28.2109 H   0  0  0  0  0  0  0  0  0  0  0  0\\n   77.7605  -53.4038   28.6241 C   0  0  0  0  0  0  0  0  0  0  0  0\\n   78.4118  -54.7759   28.9363 C   0  0  0  0  0  0  0  0  0  0  0  0\\n   78.8286  -54.7163   30.2566 O   0  0  0  0  0  0  0  0  0  0  0  0\\n   78.7105  -55.9859   31.0446 N   0  0  0  0  0  0  0  0  0  0  0  0\\n   78.1072  -53.1298   27.6201 H   0  0  0  0  0  0  0  0  0  0  0  0\\n   78.1405  -52.6345   29.3076 H   0  0  0  0  0  0  0  0  0  0  0  0\\n   77.6634  -55.5704   28.8255 H   0  0  0  0  0  0  0  0  0  0  0  0\\n   79.2670  -54.9311   28.2670 H   0  0  0  0  0  0  0  0  0  0  0  0\\n   78.0717  -55.7081   31.7884 H   0  0  0  0  0  0  0  0  0  0  0  0\\n   80.0816  -56.3342   31.4735 C   0  0  0  0  0  0  0  0  0  0  0  0\\n   80.0621  -57.1770   32.7511 C   0  0  0  0  0  0  0  0  0  0  0  0\\n   79.3062  -56.4050   33.7857 O   0  0  0  0  0  0  0  0  0  0  0  0\\n   79.1367  -57.2154   34.9293 N   0  0  0  0  0  0  0  0  0  0  0  0\\n   80.5574  -55.3673   31.6786 H   0  0  0  0  0  0  0  0  0  0  0  0\\n   80.7497  -56.7127   30.6900 H   0  0  0  0  0  0  0  0  0  0  0  0\\n   81.1245  -57.3671   32.9473 H   0  0  0  0  0  0  0  0  0  0  0  0\\n   79.5643  -58.1536   32.7076 H   0  0  0  0  0  0  0  0  0  0  0  0\\n   78.4453  -56.6841   35.4567 H   0  0  0  0  0  0  0  0  0  0  0  0\\n   80.5294  -57.3494   35.7080 C   0  0  0  0  0  0  0  0  0  0  0  0\\n   81.3150  -56.1259   36.0227 C   0  0  0  0  0  0  0  0  0  0  0  0\\n   80.6872  -55.4136   37.0947 O   0  0  0  0  0  0  0  0  0  0  0  0\\n   80.3728  -53.9080   36.9311 N   0  0  0  0  0  0  0  0  0  0  0  0\\n   80.3853  -57.9233   36.6318 H   0  0  0  0  0  0  0  0  0  0  0  0\\n   81.2858  -57.9605   35.2002 H   0  0  0  0  0  0  0  0  0  0  0  0\\n   82.3366  -56.4046   36.3091 H   0  0  0  0  0  0  0  0  0  0  0  0\\n   81.4699  -55.5825   35.0824 H   0  0  0  0  0  0  0  0  0  0  0  0\\n   81.0655  -53.5222   36.2909 H   0  0  0  0  0  0  0  0  0  0  0  0\\n   78.9485  -53.9599   36.4519 C   0  0  0  0  0  0  0  0  0  0  0  0\\n   78.6681  -53.0493   35.9083 H   0  0  0  0  0  0  0  0  0  0  0  0\\n   78.2643  -54.0660   37.3028 H   0  0  0  0  0  0  0  0  0  0  0  0\\n   78.7645  -54.8681   35.8648 H   0  0  0  0  0  0  0  0  0  0  0  0\\n  1  2  1  0\\n  1  3  1  0\\n  4  5  1  0\\n  5  6  1  0\\n  6  7  1  0\\n  4  8  1  0\\n  4  9  1  0\\n  5 10  1  0\\n  5 11  1  0\\n  7 12  1  0\\n 13 14  1  0\\n 14 15  1  0\\n 15 16  1  0\\n 13 17  1  0\\n 13 18  1  0\\n 14 19  1  0\\n 14 20  1  0\\n 16 21  1  0\\n  7 13  1  0\\n 22 23  1  0\\n 23 24  1  0\\n 24 25  1  0\\n 22 26  1  0\\n 22 27  1  0\\n 23 28  1  0\\n 23 29  1  0\\n 25 30  1  0\\n 16 22  1  0\\n 31 32  1  0\\n 32 33  1  0\\n 33 34  1  0\\n 31 35  1  0\\n 31 36  1  0\\n 32 37  1  0\\n 32 38  1  0\\n 34 39  1  0\\n 25 31  1  0\\n 40 41  1  0\\n 41 42  1  0\\n 42 43  1  0\\n 40 44  1  0\\n 40 45  1  0\\n 41 46  1  0\\n 41 47  1  0\\n 43 48  1  0\\n 34 40  1  0\\n  1  4  1  0\\n 49 50  1  0\\n 49 51  1  0\\n 49 52  1  0\\n 43 49  1  0\\nM  END\\n\",\"mol\");\n\tviewer_17557884275467513.setStyle({\"stick\": {}});\n\tviewer_17557884275467513.setBackgroundColor(\"0xeeeeee\");\n\tviewer_17557884275467513.zoomTo();\nviewer_17557884275467513.render();\n});\n</script>",
      "text/html": [
       "<div id=\"3dmolviewer_17557884275467513\"  style=\"position: relative; width: 400px; height: 300px;\">\n",
       "        <p id=\"3dmolwarning_17557884275467513\" style=\"background-color:#ffcccc;color:black\">3Dmol.js failed to load for some reason.  Please check your browser console for error messages.<br></p>\n",
       "        </div>\n",
       "<script>\n",
       "\n",
       "var loadScriptAsync = function(uri){\n",
       "  return new Promise((resolve, reject) => {\n",
       "    //this is to ignore the existence of requirejs amd\n",
       "    var savedexports, savedmodule;\n",
       "    if (typeof exports !== 'undefined') savedexports = exports;\n",
       "    else exports = {}\n",
       "    if (typeof module !== 'undefined') savedmodule = module;\n",
       "    else module = {}\n",
       "\n",
       "    var tag = document.createElement('script');\n",
       "    tag.src = uri;\n",
       "    tag.async = true;\n",
       "    tag.onload = () => {\n",
       "        exports = savedexports;\n",
       "        module = savedmodule;\n",
       "        resolve();\n",
       "    };\n",
       "  var firstScriptTag = document.getElementsByTagName('script')[0];\n",
       "  firstScriptTag.parentNode.insertBefore(tag, firstScriptTag);\n",
       "});\n",
       "};\n",
       "\n",
       "if(typeof $3Dmolpromise === 'undefined') {\n",
       "$3Dmolpromise = null;\n",
       "  $3Dmolpromise = loadScriptAsync('https://cdn.jsdelivr.net/npm/3dmol@2.5.2/build/3Dmol-min.js');\n",
       "}\n",
       "\n",
       "var viewer_17557884275467513 = null;\n",
       "var warn = document.getElementById(\"3dmolwarning_17557884275467513\");\n",
       "if(warn) {\n",
       "    warn.parentNode.removeChild(warn);\n",
       "}\n",
       "$3Dmolpromise.then(function() {\n",
       "viewer_17557884275467513 = $3Dmol.createViewer(document.getElementById(\"3dmolviewer_17557884275467513\"),{backgroundColor:\"white\"});\n",
       "viewer_17557884275467513.zoomTo();\n",
       "\tviewer_17557884275467513.addModel(\"\\n     RDKit          3D\\n\\n 52 51  0  0  0  0  0  0  0  0999 V2000\\n   70.0956  -58.1035   32.8675 N   0  0  0  0  0  0  0  0  0  0  0  0\\n   69.1660  -58.5074   32.7625 H   0  0  0  0  0  0  0  0  0  0  0  0\\n   70.5950  -58.4722   33.6756 H   0  0  0  0  0  0  0  0  0  0  0  0\\n   71.0399  -57.9706   31.6670 C   0  0  0  0  0  0  0  0  0  0  0  0\\n   72.3200  -57.0910   31.9014 C   0  0  0  0  0  0  0  0  0  0  0  0\\n   73.2959  -57.3401   30.8398 O   0  0  0  0  0  0  0  0  0  0  0  0\\n   74.6711  -57.1060   31.2689 N   0  0  0  0  0  0  0  0  0  0  0  0\\n   70.5077  -57.6741   30.7547 H   0  0  0  0  0  0  0  0  0  0  0  0\\n   71.5628  -58.8788   31.3428 H   0  0  0  0  0  0  0  0  0  0  0  0\\n   72.8562  -57.3307   32.8279 H   0  0  0  0  0  0  0  0  0  0  0  0\\n   72.1035  -56.0156   31.9022 H   0  0  0  0  0  0  0  0  0  0  0  0\\n   74.9635  -58.0489   31.5213 H   0  0  0  0  0  0  0  0  0  0  0  0\\n   75.3834  -56.4756   30.0327 C   0  0  0  0  0  0  0  0  0  0  0  0\\n   74.8560  -55.1334   29.6324 C   0  0  0  0  0  0  0  0  0  0  0  0\\n   75.4071  -54.6762   28.3878 O   0  0  0  0  0  0  0  0  0  0  0  0\\n   76.1941  -53.4009   28.5968 N   0  0  0  0  0  0  0  0  0  0  0  0\\n   75.1559  -57.1334   29.1848 H   0  0  0  0  0  0  0  0  0  0  0  0\\n   76.4598  -56.5899   30.2111 H   0  0  0  0  0  0  0  0  0  0  0  0\\n   75.0555  -54.4492   30.4663 H   0  0  0  0  0  0  0  0  0  0  0  0\\n   73.7708  -55.2381   29.5104 H   0  0  0  0  0  0  0  0  0  0  0  0\\n   75.7054  -52.5943   28.2109 H   0  0  0  0  0  0  0  0  0  0  0  0\\n   77.7605  -53.4038   28.6241 C   0  0  0  0  0  0  0  0  0  0  0  0\\n   78.4118  -54.7759   28.9363 C   0  0  0  0  0  0  0  0  0  0  0  0\\n   78.8286  -54.7163   30.2566 O   0  0  0  0  0  0  0  0  0  0  0  0\\n   78.7105  -55.9859   31.0446 N   0  0  0  0  0  0  0  0  0  0  0  0\\n   78.1072  -53.1298   27.6201 H   0  0  0  0  0  0  0  0  0  0  0  0\\n   78.1405  -52.6345   29.3076 H   0  0  0  0  0  0  0  0  0  0  0  0\\n   77.6634  -55.5704   28.8255 H   0  0  0  0  0  0  0  0  0  0  0  0\\n   79.2670  -54.9311   28.2670 H   0  0  0  0  0  0  0  0  0  0  0  0\\n   78.0717  -55.7081   31.7884 H   0  0  0  0  0  0  0  0  0  0  0  0\\n   80.0816  -56.3342   31.4735 C   0  0  0  0  0  0  0  0  0  0  0  0\\n   80.0621  -57.1770   32.7511 C   0  0  0  0  0  0  0  0  0  0  0  0\\n   79.3062  -56.4050   33.7857 O   0  0  0  0  0  0  0  0  0  0  0  0\\n   79.1367  -57.2154   34.9293 N   0  0  0  0  0  0  0  0  0  0  0  0\\n   80.5574  -55.3673   31.6786 H   0  0  0  0  0  0  0  0  0  0  0  0\\n   80.7497  -56.7127   30.6900 H   0  0  0  0  0  0  0  0  0  0  0  0\\n   81.1245  -57.3671   32.9473 H   0  0  0  0  0  0  0  0  0  0  0  0\\n   79.5643  -58.1536   32.7076 H   0  0  0  0  0  0  0  0  0  0  0  0\\n   78.4453  -56.6841   35.4567 H   0  0  0  0  0  0  0  0  0  0  0  0\\n   80.5294  -57.3494   35.7080 C   0  0  0  0  0  0  0  0  0  0  0  0\\n   81.3150  -56.1259   36.0227 C   0  0  0  0  0  0  0  0  0  0  0  0\\n   80.6872  -55.4136   37.0947 O   0  0  0  0  0  0  0  0  0  0  0  0\\n   80.3728  -53.9080   36.9311 N   0  0  0  0  0  0  0  0  0  0  0  0\\n   80.3853  -57.9233   36.6318 H   0  0  0  0  0  0  0  0  0  0  0  0\\n   81.2858  -57.9605   35.2002 H   0  0  0  0  0  0  0  0  0  0  0  0\\n   82.3366  -56.4046   36.3091 H   0  0  0  0  0  0  0  0  0  0  0  0\\n   81.4699  -55.5825   35.0824 H   0  0  0  0  0  0  0  0  0  0  0  0\\n   81.0655  -53.5222   36.2909 H   0  0  0  0  0  0  0  0  0  0  0  0\\n   78.9485  -53.9599   36.4519 C   0  0  0  0  0  0  0  0  0  0  0  0\\n   78.6681  -53.0493   35.9083 H   0  0  0  0  0  0  0  0  0  0  0  0\\n   78.2643  -54.0660   37.3028 H   0  0  0  0  0  0  0  0  0  0  0  0\\n   78.7645  -54.8681   35.8648 H   0  0  0  0  0  0  0  0  0  0  0  0\\n  1  2  1  0\\n  1  3  1  0\\n  4  5  1  0\\n  5  6  1  0\\n  6  7  1  0\\n  4  8  1  0\\n  4  9  1  0\\n  5 10  1  0\\n  5 11  1  0\\n  7 12  1  0\\n 13 14  1  0\\n 14 15  1  0\\n 15 16  1  0\\n 13 17  1  0\\n 13 18  1  0\\n 14 19  1  0\\n 14 20  1  0\\n 16 21  1  0\\n  7 13  1  0\\n 22 23  1  0\\n 23 24  1  0\\n 24 25  1  0\\n 22 26  1  0\\n 22 27  1  0\\n 23 28  1  0\\n 23 29  1  0\\n 25 30  1  0\\n 16 22  1  0\\n 31 32  1  0\\n 32 33  1  0\\n 33 34  1  0\\n 31 35  1  0\\n 31 36  1  0\\n 32 37  1  0\\n 32 38  1  0\\n 34 39  1  0\\n 25 31  1  0\\n 40 41  1  0\\n 41 42  1  0\\n 42 43  1  0\\n 40 44  1  0\\n 40 45  1  0\\n 41 46  1  0\\n 41 47  1  0\\n 43 48  1  0\\n 34 40  1  0\\n  1  4  1  0\\n 49 50  1  0\\n 49 51  1  0\\n 49 52  1  0\\n 43 49  1  0\\nM  END\\n\",\"mol\");\n",
       "\tviewer_17557884275467513.setStyle({\"stick\": {}});\n",
       "\tviewer_17557884275467513.setBackgroundColor(\"0xeeeeee\");\n",
       "\tviewer_17557884275467513.zoomTo();\n",
       "viewer_17557884275467513.render();\n",
       "});\n",
       "</script>"
      ]
     },
     "metadata": {},
     "output_type": "display_data"
    },
    {
     "name": "stdout",
     "output_type": "stream",
     "text": [
      "可视化 homopoly_init：\n"
     ]
    },
    {
     "data": {
      "application/3dmoljs_load.v0": "<div id=\"3dmolviewer_17557884275520468\"  style=\"position: relative; width: 400px; height: 300px;\">\n        <p id=\"3dmolwarning_17557884275520468\" style=\"background-color:#ffcccc;color:black\">3Dmol.js failed to load for some reason.  Please check your browser console for error messages.<br></p>\n        </div>\n<script>\n\nvar loadScriptAsync = function(uri){\n  return new Promise((resolve, reject) => {\n    //this is to ignore the existence of requirejs amd\n    var savedexports, savedmodule;\n    if (typeof exports !== 'undefined') savedexports = exports;\n    else exports = {}\n    if (typeof module !== 'undefined') savedmodule = module;\n    else module = {}\n\n    var tag = document.createElement('script');\n    tag.src = uri;\n    tag.async = true;\n    tag.onload = () => {\n        exports = savedexports;\n        module = savedmodule;\n        resolve();\n    };\n  var firstScriptTag = document.getElementsByTagName('script')[0];\n  firstScriptTag.parentNode.insertBefore(tag, firstScriptTag);\n});\n};\n\nif(typeof $3Dmolpromise === 'undefined') {\n$3Dmolpromise = null;\n  $3Dmolpromise = loadScriptAsync('https://cdn.jsdelivr.net/npm/3dmol@2.5.2/build/3Dmol-min.js');\n}\n\nvar viewer_17557884275520468 = null;\nvar warn = document.getElementById(\"3dmolwarning_17557884275520468\");\nif(warn) {\n    warn.parentNode.removeChild(warn);\n}\n$3Dmolpromise.then(function() {\nviewer_17557884275520468 = $3Dmol.createViewer(document.getElementById(\"3dmolviewer_17557884275520468\"),{backgroundColor:\"white\"});\nviewer_17557884275520468.zoomTo();\n\tviewer_17557884275520468.addModel(\"\\n     RDKit          3D\\n\\n 52 51  0  0  0  0  0  0  0  0999 V2000\\n   -0.0200    0.0127    0.2174 N   0  0  0  0  0  0  0  0  0  0  0  0\\n   -0.5765   -0.8020   -0.0415 H   0  0  0  0  0  0  0  0  0  0  0  0\\n   -0.4115    0.7994   -0.2991 H   0  0  0  0  0  0  0  0  0  0  0  0\\n    1.3690   -0.1891   -0.1938 C   0  0  0  0  0  0  0  0  0  0  0  0\\n    2.0355   -1.3676    0.5211 C   0  0  0  0  0  0  0  0  0  0  0  0\\n    3.3766   -1.4894    0.0286 O   0  0  0  0  0  0  0  0  0  0  0  0\\n    4.0312   -2.5868    0.7346 N   0  0  0  0  0  0  0  0  0  0  0  0\\n    1.9415    0.7244    0.0054 H   0  0  0  0  0  0  0  0  0  0  0  0\\n    1.4115   -0.3451   -1.2783 H   0  0  0  0  0  0  0  0  0  0  0  0\\n    1.4892   -2.2961    0.3151 H   0  0  0  0  0  0  0  0  0  0  0  0\\n    2.0550   -1.1920    1.6038 H   0  0  0  0  0  0  0  0  0  0  0  0\\n    4.3194   -3.1850   -0.0428 H   0  0  0  0  0  0  0  0  0  0  0  0\\n    5.2167   -1.9797    1.3485 C   0  0  0  0  0  0  0  0  0  0  0  0\\n    6.0759   -3.0181    2.0713 C   0  0  0  0  0  0  0  0  0  0  0  0\\n    7.2219   -2.3498    2.6151 O   0  0  0  0  0  0  0  0  0  0  0  0\\n    8.1059   -3.3488    3.2063 N   0  0  0  0  0  0  0  0  0  0  0  0\\n    4.9120   -1.2085    2.0666 H   0  0  0  0  0  0  0  0  0  0  0  0\\n    5.8251   -1.4738    0.5883 H   0  0  0  0  0  0  0  0  0  0  0  0\\n    6.4046   -3.7925    1.3671 H   0  0  0  0  0  0  0  0  0  0  0  0\\n    5.5086   -3.4873    2.8842 H   0  0  0  0  0  0  0  0  0  0  0  0\\n    8.9311   -3.2650    2.6085 H   0  0  0  0  0  0  0  0  0  0  0  0\\n    8.4437   -2.8367    4.5398 C   0  0  0  0  0  0  0  0  0  0  0  0\\n    7.2832   -2.8891    5.5361 C   0  0  0  0  0  0  0  0  0  0  0  0\\n    7.7647   -2.4014    6.7978 O   0  0  0  0  0  0  0  0  0  0  0  0\\n    6.7906   -2.7328    7.8341 N   0  0  0  0  0  0  0  0  0  0  0  0\\n    9.2718   -3.4358    4.9383 H   0  0  0  0  0  0  0  0  0  0  0  0\\n    8.8315   -1.8120    4.4711 H   0  0  0  0  0  0  0  0  0  0  0  0\\n    6.4524   -2.2540    5.2098 H   0  0  0  0  0  0  0  0  0  0  0  0\\n    6.9278   -3.9221    5.6412 H   0  0  0  0  0  0  0  0  0  0  0  0\\n    6.5159   -1.8021    8.1552 H   0  0  0  0  0  0  0  0  0  0  0  0\\n    7.5649   -3.3893    8.8958 C   0  0  0  0  0  0  0  0  0  0  0  0\\n    8.0912   -4.7723    8.5018 C   0  0  0  0  0  0  0  0  0  0  0  0\\n    8.8721   -5.2886    9.5895 O   0  0  0  0  0  0  0  0  0  0  0  0\\n    9.3800   -6.6015    9.2052 N   0  0  0  0  0  0  0  0  0  0  0  0\\n    6.9243   -3.4966    9.7798 H   0  0  0  0  0  0  0  0  0  0  0  0\\n    8.3981   -2.7484    9.2120 H   0  0  0  0  0  0  0  0  0  0  0  0\\n    8.7285   -4.7054    7.6123 H   0  0  0  0  0  0  0  0  0  0  0  0\\n    7.2551   -5.4509    8.2950 H   0  0  0  0  0  0  0  0  0  0  0  0\\n   10.3867   -6.4292    9.1678 H   0  0  0  0  0  0  0  0  0  0  0  0\\n    9.0781   -7.4919   10.3337 C   0  0  0  0  0  0  0  0  0  0  0  0\\n    9.8018   -7.1326   11.6358 C   0  0  0  0  0  0  0  0  0  0  0  0\\n    9.5310   -8.1547   12.6044 O   0  0  0  0  0  0  0  0  0  0  0  0\\n   10.2701   -7.8359   13.8223 N   0  0  0  0  0  0  0  0  0  0  0  0\\n    7.9954   -7.5291   10.5061 H   0  0  0  0  0  0  0  0  0  0  0  0\\n    9.3589   -8.5118   10.0452 H   0  0  0  0  0  0  0  0  0  0  0  0\\n   10.8835   -7.0796   11.4616 H   0  0  0  0  0  0  0  0  0  0  0  0\\n    9.4521   -6.1674   12.0204 H   0  0  0  0  0  0  0  0  0  0  0  0\\n   10.8523   -8.6678   13.9314 H   0  0  0  0  0  0  0  0  0  0  0  0\\n    9.2623   -7.8199   14.8757 C   0  0  0  0  0  0  0  0  0  0  0  0\\n    9.7460   -7.6374   15.8415 H   0  0  0  0  0  0  0  0  0  0  0  0\\n    8.7311   -8.7766   14.9363 H   0  0  0  0  0  0  0  0  0  0  0  0\\n    8.5355   -7.0171   14.7089 H   0  0  0  0  0  0  0  0  0  0  0  0\\n  1  2  1  0\\n  1  3  1  0\\n  4  5  1  0\\n  5  6  1  0\\n  6  7  1  0\\n  4  8  1  0\\n  4  9  1  0\\n  5 10  1  0\\n  5 11  1  0\\n  7 12  1  0\\n 13 14  1  0\\n 14 15  1  0\\n 15 16  1  0\\n 13 17  1  0\\n 13 18  1  0\\n 14 19  1  0\\n 14 20  1  0\\n 16 21  1  0\\n  7 13  1  0\\n 22 23  1  0\\n 23 24  1  0\\n 24 25  1  0\\n 22 26  1  0\\n 22 27  1  0\\n 23 28  1  0\\n 23 29  1  0\\n 25 30  1  0\\n 16 22  1  0\\n 31 32  1  0\\n 32 33  1  0\\n 33 34  1  0\\n 31 35  1  0\\n 31 36  1  0\\n 32 37  1  0\\n 32 38  1  0\\n 34 39  1  0\\n 25 31  1  0\\n 40 41  1  0\\n 41 42  1  0\\n 42 43  1  0\\n 40 44  1  0\\n 40 45  1  0\\n 41 46  1  0\\n 41 47  1  0\\n 43 48  1  0\\n 34 40  1  0\\n  1  4  1  0\\n 49 50  1  0\\n 49 51  1  0\\n 49 52  1  0\\n 43 49  1  0\\nM  END\\n\",\"mol\");\n\tviewer_17557884275520468.setStyle({\"stick\": {}});\n\tviewer_17557884275520468.setBackgroundColor(\"0xeeeeee\");\n\tviewer_17557884275520468.zoomTo();\nviewer_17557884275520468.render();\n});\n</script>",
      "text/html": [
       "<div id=\"3dmolviewer_17557884275520468\"  style=\"position: relative; width: 400px; height: 300px;\">\n",
       "        <p id=\"3dmolwarning_17557884275520468\" style=\"background-color:#ffcccc;color:black\">3Dmol.js failed to load for some reason.  Please check your browser console for error messages.<br></p>\n",
       "        </div>\n",
       "<script>\n",
       "\n",
       "var loadScriptAsync = function(uri){\n",
       "  return new Promise((resolve, reject) => {\n",
       "    //this is to ignore the existence of requirejs amd\n",
       "    var savedexports, savedmodule;\n",
       "    if (typeof exports !== 'undefined') savedexports = exports;\n",
       "    else exports = {}\n",
       "    if (typeof module !== 'undefined') savedmodule = module;\n",
       "    else module = {}\n",
       "\n",
       "    var tag = document.createElement('script');\n",
       "    tag.src = uri;\n",
       "    tag.async = true;\n",
       "    tag.onload = () => {\n",
       "        exports = savedexports;\n",
       "        module = savedmodule;\n",
       "        resolve();\n",
       "    };\n",
       "  var firstScriptTag = document.getElementsByTagName('script')[0];\n",
       "  firstScriptTag.parentNode.insertBefore(tag, firstScriptTag);\n",
       "});\n",
       "};\n",
       "\n",
       "if(typeof $3Dmolpromise === 'undefined') {\n",
       "$3Dmolpromise = null;\n",
       "  $3Dmolpromise = loadScriptAsync('https://cdn.jsdelivr.net/npm/3dmol@2.5.2/build/3Dmol-min.js');\n",
       "}\n",
       "\n",
       "var viewer_17557884275520468 = null;\n",
       "var warn = document.getElementById(\"3dmolwarning_17557884275520468\");\n",
       "if(warn) {\n",
       "    warn.parentNode.removeChild(warn);\n",
       "}\n",
       "$3Dmolpromise.then(function() {\n",
       "viewer_17557884275520468 = $3Dmol.createViewer(document.getElementById(\"3dmolviewer_17557884275520468\"),{backgroundColor:\"white\"});\n",
       "viewer_17557884275520468.zoomTo();\n",
       "\tviewer_17557884275520468.addModel(\"\\n     RDKit          3D\\n\\n 52 51  0  0  0  0  0  0  0  0999 V2000\\n   -0.0200    0.0127    0.2174 N   0  0  0  0  0  0  0  0  0  0  0  0\\n   -0.5765   -0.8020   -0.0415 H   0  0  0  0  0  0  0  0  0  0  0  0\\n   -0.4115    0.7994   -0.2991 H   0  0  0  0  0  0  0  0  0  0  0  0\\n    1.3690   -0.1891   -0.1938 C   0  0  0  0  0  0  0  0  0  0  0  0\\n    2.0355   -1.3676    0.5211 C   0  0  0  0  0  0  0  0  0  0  0  0\\n    3.3766   -1.4894    0.0286 O   0  0  0  0  0  0  0  0  0  0  0  0\\n    4.0312   -2.5868    0.7346 N   0  0  0  0  0  0  0  0  0  0  0  0\\n    1.9415    0.7244    0.0054 H   0  0  0  0  0  0  0  0  0  0  0  0\\n    1.4115   -0.3451   -1.2783 H   0  0  0  0  0  0  0  0  0  0  0  0\\n    1.4892   -2.2961    0.3151 H   0  0  0  0  0  0  0  0  0  0  0  0\\n    2.0550   -1.1920    1.6038 H   0  0  0  0  0  0  0  0  0  0  0  0\\n    4.3194   -3.1850   -0.0428 H   0  0  0  0  0  0  0  0  0  0  0  0\\n    5.2167   -1.9797    1.3485 C   0  0  0  0  0  0  0  0  0  0  0  0\\n    6.0759   -3.0181    2.0713 C   0  0  0  0  0  0  0  0  0  0  0  0\\n    7.2219   -2.3498    2.6151 O   0  0  0  0  0  0  0  0  0  0  0  0\\n    8.1059   -3.3488    3.2063 N   0  0  0  0  0  0  0  0  0  0  0  0\\n    4.9120   -1.2085    2.0666 H   0  0  0  0  0  0  0  0  0  0  0  0\\n    5.8251   -1.4738    0.5883 H   0  0  0  0  0  0  0  0  0  0  0  0\\n    6.4046   -3.7925    1.3671 H   0  0  0  0  0  0  0  0  0  0  0  0\\n    5.5086   -3.4873    2.8842 H   0  0  0  0  0  0  0  0  0  0  0  0\\n    8.9311   -3.2650    2.6085 H   0  0  0  0  0  0  0  0  0  0  0  0\\n    8.4437   -2.8367    4.5398 C   0  0  0  0  0  0  0  0  0  0  0  0\\n    7.2832   -2.8891    5.5361 C   0  0  0  0  0  0  0  0  0  0  0  0\\n    7.7647   -2.4014    6.7978 O   0  0  0  0  0  0  0  0  0  0  0  0\\n    6.7906   -2.7328    7.8341 N   0  0  0  0  0  0  0  0  0  0  0  0\\n    9.2718   -3.4358    4.9383 H   0  0  0  0  0  0  0  0  0  0  0  0\\n    8.8315   -1.8120    4.4711 H   0  0  0  0  0  0  0  0  0  0  0  0\\n    6.4524   -2.2540    5.2098 H   0  0  0  0  0  0  0  0  0  0  0  0\\n    6.9278   -3.9221    5.6412 H   0  0  0  0  0  0  0  0  0  0  0  0\\n    6.5159   -1.8021    8.1552 H   0  0  0  0  0  0  0  0  0  0  0  0\\n    7.5649   -3.3893    8.8958 C   0  0  0  0  0  0  0  0  0  0  0  0\\n    8.0912   -4.7723    8.5018 C   0  0  0  0  0  0  0  0  0  0  0  0\\n    8.8721   -5.2886    9.5895 O   0  0  0  0  0  0  0  0  0  0  0  0\\n    9.3800   -6.6015    9.2052 N   0  0  0  0  0  0  0  0  0  0  0  0\\n    6.9243   -3.4966    9.7798 H   0  0  0  0  0  0  0  0  0  0  0  0\\n    8.3981   -2.7484    9.2120 H   0  0  0  0  0  0  0  0  0  0  0  0\\n    8.7285   -4.7054    7.6123 H   0  0  0  0  0  0  0  0  0  0  0  0\\n    7.2551   -5.4509    8.2950 H   0  0  0  0  0  0  0  0  0  0  0  0\\n   10.3867   -6.4292    9.1678 H   0  0  0  0  0  0  0  0  0  0  0  0\\n    9.0781   -7.4919   10.3337 C   0  0  0  0  0  0  0  0  0  0  0  0\\n    9.8018   -7.1326   11.6358 C   0  0  0  0  0  0  0  0  0  0  0  0\\n    9.5310   -8.1547   12.6044 O   0  0  0  0  0  0  0  0  0  0  0  0\\n   10.2701   -7.8359   13.8223 N   0  0  0  0  0  0  0  0  0  0  0  0\\n    7.9954   -7.5291   10.5061 H   0  0  0  0  0  0  0  0  0  0  0  0\\n    9.3589   -8.5118   10.0452 H   0  0  0  0  0  0  0  0  0  0  0  0\\n   10.8835   -7.0796   11.4616 H   0  0  0  0  0  0  0  0  0  0  0  0\\n    9.4521   -6.1674   12.0204 H   0  0  0  0  0  0  0  0  0  0  0  0\\n   10.8523   -8.6678   13.9314 H   0  0  0  0  0  0  0  0  0  0  0  0\\n    9.2623   -7.8199   14.8757 C   0  0  0  0  0  0  0  0  0  0  0  0\\n    9.7460   -7.6374   15.8415 H   0  0  0  0  0  0  0  0  0  0  0  0\\n    8.7311   -8.7766   14.9363 H   0  0  0  0  0  0  0  0  0  0  0  0\\n    8.5355   -7.0171   14.7089 H   0  0  0  0  0  0  0  0  0  0  0  0\\n  1  2  1  0\\n  1  3  1  0\\n  4  5  1  0\\n  5  6  1  0\\n  6  7  1  0\\n  4  8  1  0\\n  4  9  1  0\\n  5 10  1  0\\n  5 11  1  0\\n  7 12  1  0\\n 13 14  1  0\\n 14 15  1  0\\n 15 16  1  0\\n 13 17  1  0\\n 13 18  1  0\\n 14 19  1  0\\n 14 20  1  0\\n 16 21  1  0\\n  7 13  1  0\\n 22 23  1  0\\n 23 24  1  0\\n 24 25  1  0\\n 22 26  1  0\\n 22 27  1  0\\n 23 28  1  0\\n 23 29  1  0\\n 25 30  1  0\\n 16 22  1  0\\n 31 32  1  0\\n 32 33  1  0\\n 33 34  1  0\\n 31 35  1  0\\n 31 36  1  0\\n 32 37  1  0\\n 32 38  1  0\\n 34 39  1  0\\n 25 31  1  0\\n 40 41  1  0\\n 41 42  1  0\\n 42 43  1  0\\n 40 44  1  0\\n 40 45  1  0\\n 41 46  1  0\\n 41 47  1  0\\n 43 48  1  0\\n 34 40  1  0\\n  1  4  1  0\\n 49 50  1  0\\n 49 51  1  0\\n 49 52  1  0\\n 43 49  1  0\\nM  END\\n\",\"mol\");\n",
       "\tviewer_17557884275520468.setStyle({\"stick\": {}});\n",
       "\tviewer_17557884275520468.setBackgroundColor(\"0xeeeeee\");\n",
       "\tviewer_17557884275520468.zoomTo();\n",
       "viewer_17557884275520468.render();\n",
       "});\n",
       "</script>"
      ]
     },
     "metadata": {},
     "output_type": "display_data"
    },
    {
     "name": "stdout",
     "output_type": "stream",
     "text": [
      "22\n"
     ]
    }
   ],
   "source": [
    "\n",
    "print(\"可视化 homopoly_relaxed：\")\n",
    "view_relaxed = show_mol_3d(homopoly_relaxed)\n",
    "view_relaxed.show()\n",
    "\n",
    "print(\"可视化 homopoly_init：\")\n",
    "view_init = show_mol_3d(homopoly_init)\n",
    "view_init.show()\n",
    "print(Chem.RemoveHs(homopoly_init).GetNumAtoms())"
   ]
  },
  {
   "cell_type": "code",
   "execution_count": 11,
   "id": "f14afd67",
   "metadata": {},
   "outputs": [
    {
     "name": "stdout",
     "output_type": "stream",
     "text": [
      "已保存 homopoly_relaxed 到 /data/yifei/2025.08/chain_generator/output_dir/homopoly_relaxed.sdf\n",
      "已保存 homopoly_init 到 /data/yifei/2025.08/chain_generator/output_dir/homopoly_init.sdf\n"
     ]
    }
   ],
   "source": [
    "# 将 homopoly_relaxed 和 homopoly_init 分别保存为 SDF 文件\n",
    "from rdkit import Chem\n",
    "\n",
    "save_dir = os.path.join(os.getcwd(), \"output_dir\")\n",
    "if not os.path.exists(save_dir):\n",
    "    os.makedirs(save_dir)\n",
    "\n",
    "relaxed_sdf_path = os.path.join(save_dir, \"homopoly_relaxed.sdf\")\n",
    "init_sdf_path = os.path.join(save_dir, \"homopoly_init.sdf\")\n",
    "\n",
    "writer_relaxed = Chem.SDWriter(relaxed_sdf_path)\n",
    "writer_relaxed.write(homopoly_relaxed)\n",
    "writer_relaxed.close()\n",
    "\n",
    "writer_init = Chem.SDWriter(init_sdf_path)\n",
    "writer_init.write(homopoly_init)\n",
    "writer_init.close()\n",
    "\n",
    "print(f\"已保存 homopoly_relaxed 到 {relaxed_sdf_path}\")\n",
    "print(f\"已保存 homopoly_init 到 {init_sdf_path}\")\n"
   ]
  },
  {
   "cell_type": "code",
   "execution_count": 12,
   "id": "c83eb41e",
   "metadata": {},
   "outputs": [
    {
     "name": "stdout",
     "output_type": "stream",
     "text": [
      "RMSD矩阵：\n",
      "[[0.         0.74868822 0.29370565 0.48255938 0.56252724]\n",
      " [0.74868822 0.         0.67553624 0.93245348 0.75031517]\n",
      " [0.29370565 0.67553624 0.         0.54187465 0.58382953]\n",
      " [0.48255938 0.93245348 0.54187465 0.         0.51537409]\n",
      " [0.56252724 0.75031517 0.58382953 0.51537409 0.        ]]\n"
     ]
    },
    {
     "data": {
      "image/png": "[encoded data removed]",
      "text/plain": [
       "<Figure size 600x500 with 2 Axes>"
      ]
     },
     "metadata": {},
     "output_type": "display_data"
    }
   ],
   "source": [
    "# INSERT_YOUR_CODE\n",
    "import numpy as np\n",
    "import matplotlib.pyplot as plt\n",
    "from rdkit.Chem import AllChem, rdMolAlign\n",
    "\n",
    "# 计算所有monomer之间的RMSD矩阵\n",
    "n = len(local_monomers)\n",
    "rmsd_matrix = np.zeros((n, n))\n",
    "\n",
    "# 先为每个分子生成3D构象（如果没有的话）\n",
    "# for i, mol in enumerate(monomer_list):\n",
    "#     if mol.GetNumConformers() == 0:\n",
    "#         AllChem.EmbedMolecule(mol, AllChem.ETKDG())\n",
    "#         AllChem.UFFOptimizeMolecule(mol)\n",
    "\n",
    "for i in range(n):\n",
    "    for j in range(n):\n",
    "        if i == j:\n",
    "            rmsd_matrix[i, j] = 0.0\n",
    "        elif i < j:\n",
    "            # 对齐并计算RMSD\n",
    "            try:\n",
    "                rmsd = rdMolAlign.GetBestRMS(local_monomers[i], local_monomers[j])\n",
    "            except Exception as e:\n",
    "                rmsd = np.nan\n",
    "            rmsd_matrix[i, j] = rmsd\n",
    "            rmsd_matrix[j, i] = rmsd  # 对称\n",
    "\n",
    "print(\"RMSD矩阵：\")\n",
    "print(rmsd_matrix)\n",
    "\n",
    "# 可视化RMSD矩阵为热力图\n",
    "plt.figure(figsize=(6, 5))\n",
    "im = plt.imshow(rmsd_matrix, cmap='viridis', interpolation='nearest')\n",
    "plt.colorbar(im, label='RMSD')\n",
    "plt.title(\"Monomer RMSD Heatmap\")\n",
    "plt.xlabel(\"Monomer Index\")\n",
    "plt.ylabel(\"Monomer Index\")\n",
    "plt.xticks(range(n), [f\"{i}\" for i in range(n)])\n",
    "plt.yticks(range(n), [f\"{i}\" for i in range(n)])\n",
    "plt.tight_layout()\n",
    "plt.show()\n"
   ]
  }
 ],
 "metadata": {
  "kernelspec": {
   "display_name": "chaingen",
   "language": "python",
   "name": "python3"
  },
  "language_info": {
   "codemirror_mode": {
    "name": "ipython",
    "version": 3
   },
   "file_extension": ".py",
   "mimetype": "text/x-python",
   "name": "python",
   "nbconvert_exporter": "python",
   "pygments_lexer": "ipython3",
   "version": "3.11.10"
  }
 },
 "nbformat": 4,
 "nbformat_minor": 5
}
