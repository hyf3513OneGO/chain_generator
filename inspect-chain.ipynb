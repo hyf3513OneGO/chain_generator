{
 "cells": [
  {
   "cell_type": "code",
   "execution_count": 1,
   "id": "266a2a52",
   "metadata": {},
   "outputs": [],
   "source": [
    "import glob\n",
    "import os\n",
    "import rdkit.Chem as Chem\n",
    "import numpy as np\n",
    "task_dirs = sorted(glob.glob(\"results/mini/task_*_repeat-5-monomers\"))\n",
    "local_monomers_all = []\n",
    "global_monomers_all = []\n",
    "R_list_all = []\n",
    "t_list_all = []\n",
    "psmiles_all = []\n",
    "global_chain_all = []\n",
    "for task_dir in task_dirs:\n",
    "    local_monomer_sdf_files = sorted(glob.glob(os.path.join(task_dir, \"local_monomer_*.sdf\")))\n",
    "    local_monomer_mols = [Chem.MolFromMolFile(path) for path in local_monomer_sdf_files]\n",
    "    local_monomers_all.append(local_monomer_mols)\n",
    "    global_monomer_sdf_files = sorted(glob.glob(os.path.join(task_dir, \"global_monomer_*.sdf\")))\n",
    "    global_monomer_mols = [Chem.MolFromMolFile(path) for path in global_monomer_sdf_files]\n",
    "    global_monomers_all.append(global_monomer_mols)\n",
    "    global_chain = Chem.MolFromMolFile(os.path.join(task_dir,\"homopoly_relaxed.sdf\"))\n",
    "    global_chain_all.append(global_chain)\n",
    "    R_list = np.load(os.path.join(task_dir,\"R_list.npy\"))\n",
    "    t_list = np.load(os.path.join(task_dir,\"t_list.npy\"))\n",
    "    R_list_all.append(R_list)\n",
    "    t_list_all.append(t_list)\n",
    "    psmiles = \"\"\n",
    "    with open(os.path.join(task_dir,\"psmiles.txt\"),\"r\") as f:\n",
    "        psmiles = f.read()\n",
    "    psmiles_all.append(psmiles)"
   ]
  },
  {
   "cell_type": "code",
   "execution_count": 2,
   "id": "cda646a6",
   "metadata": {},
   "outputs": [],
   "source": [
    "from utils.chain_split_utils import remove_star_atoms\n",
    "from utils.rigid_utils import to_local_coords,to_global_coords\n",
    "\n",
    "# # 获取第0个分子的第n个原子的坐标（例如n=3）\n",
    "# n = 3  # 你可以修改n为你想要的原子索引\n",
    "# conf = local_monomer_mols[2].GetConformer(0)\n",
    "# # 获取第0个分子的所有原子的坐标\n",
    "# x0_list = []\n",
    "# for i in range(local_monomer_mols[2].GetNumAtoms()):\n",
    "#     pos = conf.GetAtomPosition(i)\n",
    "#     x0_list.append([pos.x, pos.y, pos.z])\n",
    "# x0_list = np.array(x0_list)\n",
    "# x0_rotated = to_global_coords(x0_list,R_list[2],np.zeros(3))\n",
    "\n",
    "\n",
    "# print(x0_rotated[s1],t_list[0])"
   ]
  },
  {
   "cell_type": "code",
   "execution_count": 3,
   "id": "9c1c0669",
   "metadata": {},
   "outputs": [],
   "source": [
    "# 这个函数无论传入什么分子，结果都一样，是因为它内部用的是外部变量conf（即local_monomer_mols[2]的构象），\n",
    "# 而不是用传入的mol的构象。应该改为用mol.GetConformer()。\n",
    "def get_mol_pos(mol:Chem.Mol):\n",
    "    pos_list = []\n",
    "    conf = mol.GetConformer(0)  # 正确获取当前mol的构象\n",
    "    for i in range(mol.GetNumAtoms()):\n",
    "        pos = conf.GetAtomPosition(i)\n",
    "        pos_list.append([pos.x, pos.y, pos.z])\n",
    "    return np.array(pos_list)"
   ]
  },
  {
   "cell_type": "code",
   "execution_count": 4,
   "id": "9ef29bb4",
   "metadata": {},
   "outputs": [
    {
     "name": "stdout",
     "output_type": "stream",
     "text": [
      "global_chain_calc 和 global_chain 的 RMSD: 0.0001\n"
     ]
    }
   ],
   "source": [
    "from copy import deepcopy\n",
    "from utils.chain_split_utils import compose_monomers_from_local_monomers,calc_t_list\n",
    "from utils.conf_utils import set_coord_to_mol\n",
    "from utils.rigid_utils import compute_rigid_frame_from_three_atoms\n",
    "import copy\n",
    "\n",
    "task_id = 1\n",
    "t_calc_list,key_point_list = calc_t_list(local_monomers_all[task_id],R_list_all[task_id],psmiles_all[task_id])\n",
    "global_chain_calc = compose_monomers_from_local_monomers(\n",
    "    copy.copy(local_monomers_all[task_id]),R_list_all[task_id],t_calc_list,keypoints=key_point_list\n",
    ")\n",
    "from rdkit.Chem import AllChem\n",
    "\n",
    "# # 使用rdkit自带的RMSD计算函数\n",
    "rmsd = AllChem.GetBestRMS(copy.deepcopy(global_chain_all[task_id]), copy.deepcopy(global_chain_calc))\n",
    "print(f\"global_chain_calc 和 global_chain 的 RMSD: {rmsd:.4f}\")\n",
    "\n",
    "from utils.conf_utils import get_coord_from_mol\n",
    "\n",
    "coords1 = np.array(get_coord_from_mol(global_chain))\n",
    "coords2 = np.array(get_coord_from_mol(global_chain_calc))"
   ]
  },
  {
   "cell_type": "code",
   "execution_count": 5,
   "id": "8f97a6a2",
   "metadata": {},
   "outputs": [
    {
     "data": {
      "application/3dmoljs_load.v0": "<div id=\"3dmolviewer_17571749768997355\"  style=\"position: relative; width: 400px; height: 400px;\">\n        <p id=\"3dmolwarning_17571749768997355\" style=\"background-color:#ffcccc;color:black\">3Dmol.js failed to load for some reason.  Please check your browser console for error messages.<br></p>\n        </div>\n<script>\n\nvar loadScriptAsync = function(uri){\n  return new Promise((resolve, reject) => {\n    //this is to ignore the existence of requirejs amd\n    var savedexports, savedmodule;\n    if (typeof exports !== 'undefined') savedexports = exports;\n    else exports = {}\n    if (typeof module !== 'undefined') savedmodule = module;\n    else module = {}\n\n    var tag = document.createElement('script');\n    tag.src = uri;\n    tag.async = true;\n    tag.onload = () => {\n        exports = savedexports;\n        module = savedmodule;\n        resolve();\n    };\n  var firstScriptTag = document.getElementsByTagName('script')[0];\n  firstScriptTag.parentNode.insertBefore(tag, firstScriptTag);\n});\n};\n\nif(typeof $3Dmolpromise === 'undefined') {\n$3Dmolpromise = null;\n  $3Dmolpromise = loadScriptAsync('https://cdn.jsdelivr.net/npm/3dmol@2.5.2/build/3Dmol-min.js');\n}\n\nvar viewer_17571749768997355 = null;\nvar warn = document.getElementById(\"3dmolwarning_17571749768997355\");\nif(warn) {\n    warn.parentNode.removeChild(warn);\n}\n$3Dmolpromise.then(function() {\nviewer_17571749768997355 = $3Dmol.createViewer(document.getElementById(\"3dmolviewer_17571749768997355\"),{backgroundColor:\"white\"});\nviewer_17571749768997355.zoomTo();\n\tviewer_17571749768997355.addModel(\"\\n     RDKit          3D\\n\\n 17 16  0  0  0  0  0  0  0  0999 V2000\\n    0.0815   -0.3128    0.8425 C   0  0  0  0  0  0  0  0  0  0  0  0\\n   -0.8958   -1.2385    1.4875 N   0  0  0  0  0  0  0  0  0  0  0  0\\n   -1.7756   -1.9711    0.7945 C   0  0  0  0  0  0  0  0  0  0  0  0\\n   -2.1496   -1.7717   -0.4721 C   0  0  0  0  0  0  0  0  0  0  0  0\\n   -2.4131   -3.0028    1.5086 N   0  0  0  0  0  0  0  0  0  0  0  0\\n   -1.6057   -3.7411    2.3929 C   0  0  0  0  0  0  0  0  0  0  0  0\\n   -0.3706   -4.1546    2.0970 C   0  0  0  0  0  0  0  0  0  0  0  0\\n   -2.3310   -4.1156    3.5360 N   0  0  0  0  0  0  0  0  0  0  0  0\\n   -1.5594   -4.3604    4.6843 C   0  0  0  0  0  0  0  0  0  0  0  0\\n   -0.7818   -3.4479    5.2640 C   0  0  0  0  0  0  0  0  0  0  0  0\\n   -1.8708   -5.5792    5.3025 N   0  0  0  0  0  0  0  0  0  0  0  0\\n   -3.1788   -5.6445    5.8174 C   0  0  0  0  0  0  0  0  0  0  0  0\\n   -3.8667   -4.6080    6.3039 C   0  0  0  0  0  0  0  0  0  0  0  0\\n   -3.7110   -6.9338    5.7148 N   0  0  0  0  0  0  0  0  0  0  0  0\\n   -3.7584   -7.6009    6.9405 C   0  0  0  0  0  0  0  0  0  0  0  0\\n   -2.8050   -7.5281    7.8586 C   0  0  0  0  0  0  0  0  0  0  0  0\\n   -4.8175   -8.3549    7.0666 N   0  0  0  0  0  0  0  0  0  0  0  0\\n  2  3  1  0\\n  3  4  2  0\\n  5  6  1  0\\n  6  7  2  0\\n  3  5  1  0\\n  8  9  1  0\\n  9 10  2  0\\n  6  8  1  0\\n 11 12  1  0\\n 12 13  2  0\\n  9 11  1  0\\n 14 15  1  0\\n 15 16  2  0\\n 12 14  1  0\\n  1  2  1  0\\n 15 17  1  0\\nM  END\\n\",\"mol\");\n\tviewer_17571749768997355.setStyle({\"model\": 0},{\"stick\": {\"color\": \"blue\"}, \"sphere\": {\"color\": \"blue\", \"scale\": 0.3}});\n\tviewer_17571749768997355.addModel(\"\\n     RDKit          3D\\n\\n 17 16  0  0  0  0  0  0  0  0999 V2000\\n    0.0000    0.0000    0.0000 C   0  0  0  0  0  0  0  0  0  0  0  0\\n   -0.9773   -0.9257    0.6450 N   0  0  0  0  0  0  0  0  0  0  0  0\\n   -1.8571   -1.6583   -0.0480 C   0  0  0  0  0  0  0  0  0  0  0  0\\n   -2.2311   -1.4589   -1.3146 C   0  0  0  0  0  0  0  0  0  0  0  0\\n   -2.4946   -2.6900    0.6661 N   0  0  0  0  0  0  0  0  0  0  0  0\\n   -1.6873   -3.4283    1.5504 C   0  0  0  0  0  0  0  0  0  0  0  0\\n   -0.4521   -3.8418    1.2546 C   0  0  0  0  0  0  0  0  0  0  0  0\\n   -2.4126   -3.8028    2.6935 N   0  0  0  0  0  0  0  0  0  0  0  0\\n   -1.6410   -4.0477    3.8418 C   0  0  0  0  0  0  0  0  0  0  0  0\\n   -0.8634   -3.1351    4.4215 C   0  0  0  0  0  0  0  0  0  0  0  0\\n   -1.9524   -5.2664    4.4600 N   0  0  0  0  0  0  0  0  0  0  0  0\\n   -3.2604   -5.3317    4.9749 C   0  0  0  0  0  0  0  0  0  0  0  0\\n   -3.9484   -4.2952    5.4615 C   0  0  0  0  0  0  0  0  0  0  0  0\\n   -3.7927   -6.6209    4.8723 N   0  0  0  0  0  0  0  0  0  0  0  0\\n   -3.8400   -7.2882    6.0981 C   0  0  0  0  0  0  0  0  0  0  0  0\\n   -4.8991   -8.0421    6.2240 N   0  0  0  0  0  0  0  0  0  0  0  0\\n   -2.8866   -7.2152    7.0160 C   0  0  0  0  0  0  0  0  0  0  0  0\\n  2  3  1  0\\n  3  4  2  0\\n  1  2  1  0\\n  5  6  1  0\\n  6  7  2  0\\n  3  5  1  0\\n  8  9  1  0\\n  9 10  2  0\\n  6  8  1  0\\n 11 12  1  0\\n 12 13  2  0\\n  9 11  1  0\\n 14 15  1  0\\n 15 17  2  0\\n 15 16  1  0\\n 12 14  1  0\\nM  END\\n\",\"mol\");\n\tviewer_17571749768997355.setStyle({\"model\": 1},{\"stick\": {\"color\": \"red\"}, \"sphere\": {\"color\": \"red\", \"scale\": 0.3}});\n\tviewer_17571749768997355.zoomTo();\nviewer_17571749768997355.render();\n});\n</script>",
      "text/html": [
       "<div id=\"3dmolviewer_17571749768997355\"  style=\"position: relative; width: 400px; height: 400px;\">\n",
       "        <p id=\"3dmolwarning_17571749768997355\" style=\"background-color:#ffcccc;color:black\">3Dmol.js failed to load for some reason.  Please check your browser console for error messages.<br></p>\n",
       "        </div>\n",
       "<script>\n",
       "\n",
       "var loadScriptAsync = function(uri){\n",
       "  return new Promise((resolve, reject) => {\n",
       "    //this is to ignore the existence of requirejs amd\n",
       "    var savedexports, savedmodule;\n",
       "    if (typeof exports !== 'undefined') savedexports = exports;\n",
       "    else exports = {}\n",
       "    if (typeof module !== 'undefined') savedmodule = module;\n",
       "    else module = {}\n",
       "\n",
       "    var tag = document.createElement('script');\n",
       "    tag.src = uri;\n",
       "    tag.async = true;\n",
       "    tag.onload = () => {\n",
       "        exports = savedexports;\n",
       "        module = savedmodule;\n",
       "        resolve();\n",
       "    };\n",
       "  var firstScriptTag = document.getElementsByTagName('script')[0];\n",
       "  firstScriptTag.parentNode.insertBefore(tag, firstScriptTag);\n",
       "});\n",
       "};\n",
       "\n",
       "if(typeof $3Dmolpromise === 'undefined') {\n",
       "$3Dmolpromise = null;\n",
       "  $3Dmolpromise = loadScriptAsync('https://cdn.jsdelivr.net/npm/3dmol@2.5.2/build/3Dmol-min.js');\n",
       "}\n",
       "\n",
       "var viewer_17571749768997355 = null;\n",
       "var warn = document.getElementById(\"3dmolwarning_17571749768997355\");\n",
       "if(warn) {\n",
       "    warn.parentNode.removeChild(warn);\n",
       "}\n",
       "$3Dmolpromise.then(function() {\n",
       "viewer_17571749768997355 = $3Dmol.createViewer(document.getElementById(\"3dmolviewer_17571749768997355\"),{backgroundColor:\"white\"});\n",
       "viewer_17571749768997355.zoomTo();\n",
       "\tviewer_17571749768997355.addModel(\"\\n     RDKit          3D\\n\\n 17 16  0  0  0  0  0  0  0  0999 V2000\\n    0.0815   -0.3128    0.8425 C   0  0  0  0  0  0  0  0  0  0  0  0\\n   -0.8958   -1.2385    1.4875 N   0  0  0  0  0  0  0  0  0  0  0  0\\n   -1.7756   -1.9711    0.7945 C   0  0  0  0  0  0  0  0  0  0  0  0\\n   -2.1496   -1.7717   -0.4721 C   0  0  0  0  0  0  0  0  0  0  0  0\\n   -2.4131   -3.0028    1.5086 N   0  0  0  0  0  0  0  0  0  0  0  0\\n   -1.6057   -3.7411    2.3929 C   0  0  0  0  0  0  0  0  0  0  0  0\\n   -0.3706   -4.1546    2.0970 C   0  0  0  0  0  0  0  0  0  0  0  0\\n   -2.3310   -4.1156    3.5360 N   0  0  0  0  0  0  0  0  0  0  0  0\\n   -1.5594   -4.3604    4.6843 C   0  0  0  0  0  0  0  0  0  0  0  0\\n   -0.7818   -3.4479    5.2640 C   0  0  0  0  0  0  0  0  0  0  0  0\\n   -1.8708   -5.5792    5.3025 N   0  0  0  0  0  0  0  0  0  0  0  0\\n   -3.1788   -5.6445    5.8174 C   0  0  0  0  0  0  0  0  0  0  0  0\\n   -3.8667   -4.6080    6.3039 C   0  0  0  0  0  0  0  0  0  0  0  0\\n   -3.7110   -6.9338    5.7148 N   0  0  0  0  0  0  0  0  0  0  0  0\\n   -3.7584   -7.6009    6.9405 C   0  0  0  0  0  0  0  0  0  0  0  0\\n   -2.8050   -7.5281    7.8586 C   0  0  0  0  0  0  0  0  0  0  0  0\\n   -4.8175   -8.3549    7.0666 N   0  0  0  0  0  0  0  0  0  0  0  0\\n  2  3  1  0\\n  3  4  2  0\\n  5  6  1  0\\n  6  7  2  0\\n  3  5  1  0\\n  8  9  1  0\\n  9 10  2  0\\n  6  8  1  0\\n 11 12  1  0\\n 12 13  2  0\\n  9 11  1  0\\n 14 15  1  0\\n 15 16  2  0\\n 12 14  1  0\\n  1  2  1  0\\n 15 17  1  0\\nM  END\\n\",\"mol\");\n",
       "\tviewer_17571749768997355.setStyle({\"model\": 0},{\"stick\": {\"color\": \"blue\"}, \"sphere\": {\"color\": \"blue\", \"scale\": 0.3}});\n",
       "\tviewer_17571749768997355.addModel(\"\\n     RDKit          3D\\n\\n 17 16  0  0  0  0  0  0  0  0999 V2000\\n    0.0000    0.0000    0.0000 C   0  0  0  0  0  0  0  0  0  0  0  0\\n   -0.9773   -0.9257    0.6450 N   0  0  0  0  0  0  0  0  0  0  0  0\\n   -1.8571   -1.6583   -0.0480 C   0  0  0  0  0  0  0  0  0  0  0  0\\n   -2.2311   -1.4589   -1.3146 C   0  0  0  0  0  0  0  0  0  0  0  0\\n   -2.4946   -2.6900    0.6661 N   0  0  0  0  0  0  0  0  0  0  0  0\\n   -1.6873   -3.4283    1.5504 C   0  0  0  0  0  0  0  0  0  0  0  0\\n   -0.4521   -3.8418    1.2546 C   0  0  0  0  0  0  0  0  0  0  0  0\\n   -2.4126   -3.8028    2.6935 N   0  0  0  0  0  0  0  0  0  0  0  0\\n   -1.6410   -4.0477    3.8418 C   0  0  0  0  0  0  0  0  0  0  0  0\\n   -0.8634   -3.1351    4.4215 C   0  0  0  0  0  0  0  0  0  0  0  0\\n   -1.9524   -5.2664    4.4600 N   0  0  0  0  0  0  0  0  0  0  0  0\\n   -3.2604   -5.3317    4.9749 C   0  0  0  0  0  0  0  0  0  0  0  0\\n   -3.9484   -4.2952    5.4615 C   0  0  0  0  0  0  0  0  0  0  0  0\\n   -3.7927   -6.6209    4.8723 N   0  0  0  0  0  0  0  0  0  0  0  0\\n   -3.8400   -7.2882    6.0981 C   0  0  0  0  0  0  0  0  0  0  0  0\\n   -4.8991   -8.0421    6.2240 N   0  0  0  0  0  0  0  0  0  0  0  0\\n   -2.8866   -7.2152    7.0160 C   0  0  0  0  0  0  0  0  0  0  0  0\\n  2  3  1  0\\n  3  4  2  0\\n  1  2  1  0\\n  5  6  1  0\\n  6  7  2  0\\n  3  5  1  0\\n  8  9  1  0\\n  9 10  2  0\\n  6  8  1  0\\n 11 12  1  0\\n 12 13  2  0\\n  9 11  1  0\\n 14 15  1  0\\n 15 17  2  0\\n 15 16  1  0\\n 12 14  1  0\\nM  END\\n\",\"mol\");\n",
       "\tviewer_17571749768997355.setStyle({\"model\": 1},{\"stick\": {\"color\": \"red\"}, \"sphere\": {\"color\": \"red\", \"scale\": 0.3}});\n",
       "\tviewer_17571749768997355.zoomTo();\n",
       "viewer_17571749768997355.render();\n",
       "});\n",
       "</script>"
      ]
     },
     "metadata": {},
     "output_type": "display_data"
    }
   ],
   "source": [
    "import py3Dmol\n",
    "\n",
    "# 用py3Dmol可视化两个分子，分别用不同颜色显示\n",
    "def show_two_mols(mol1, mol2, colors=['blue', 'red']):\n",
    "    mb1 = Chem.MolToMolBlock(mol1)\n",
    "    mb2 = Chem.MolToMolBlock(mol2)\n",
    "    view = py3Dmol.view(width=400, height=400)\n",
    "    # 添加第一个分子并设置颜色\n",
    "    view.addModel(mb1, 'mol')\n",
    "    view.setStyle({'model':0}, {'stick':{'color':colors[0]}, 'sphere':{'color':colors[0], 'scale':0.3}})\n",
    "    # 添加第二个分子并设置颜色\n",
    "    view.addModel(mb2, 'mol')\n",
    "    view.setStyle({'model':1}, {'stick':{'color':colors[1]}, 'sphere':{'color':colors[1], 'scale':0.3}})\n",
    "    view.zoomTo()\n",
    "    return view\n",
    "\n",
    "view = show_two_mols(global_chain_all[task_id], global_chain_calc)\n",
    "view.show()\n"
   ]
  }
 ],
 "metadata": {
  "kernelspec": {
   "display_name": "polyconfR",
   "language": "python",
   "name": "python3"
  },
  "language_info": {
   "codemirror_mode": {
    "name": "ipython",
    "version": 3
   },
   "file_extension": ".py",
   "mimetype": "text/x-python",
   "name": "python",
   "nbconvert_exporter": "python",
   "pygments_lexer": "ipython3",
   "version": "3.10.18"
  }
 },
 "nbformat": 4,
 "nbformat_minor": 5
}
